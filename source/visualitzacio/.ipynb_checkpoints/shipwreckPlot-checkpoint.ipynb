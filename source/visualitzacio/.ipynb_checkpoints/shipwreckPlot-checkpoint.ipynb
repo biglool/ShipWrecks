{
 "cells": [
  {
   "cell_type": "code",
   "execution_count": 72,
   "id": "8e33d950",
   "metadata": {},
   "outputs": [],
   "source": [
    "import pandas as pd\n",
    "import matplotlib\n",
    "import matplotlib.pyplot as plt\n",
    "import geopandas as gpd\n",
    "\n",
    "# Carreguem el dataset en un dataframe de pandas.\n",
    "df = pd.read_csv('dataset\\shipWrecks.csv')\n",
    "\n",
    "# Creem un nou dataframe amb les columnes que ens interessen per a la visualització.\n",
    "df2 = df[[\"SUNK DATE\", \"COORDINATES\"]]\n",
    "\n",
    "# Eliminem les files amb valors nuls.\n",
    "df2 = df2.dropna()\n",
    "\n",
    "# Eliminem els caràcters inapropiats de la columna \"COORDINATES\".\n",
    "df2[\"COORDINATES\"] = df2[\"COORDINATES\"].str.replace(\" \", '')\n",
    "df2[\"COORDINATES\"] = df2[\"COORDINATES\"].str.replace(\"\\ufeff\", '')\n",
    "\n",
    "# Separem les coordenades en latitud i longitud, i eliminem la columna \"COORDINATES\" del dataframe.\n",
    "df2[[\"LATITUDE\", \"LONGITUDE\"]] = df2[\"COORDINATES\"].str.split(\";\", 1, expand=True)\n",
    "df2 = df2.drop([\"COORDINATES\"], axis=1)\n",
    "\n",
    "# Assegurem que totes les dades contingudes a les columnes \"LATITUDE\" i \"LONGITUDE\" tenen el format correcte (sense lletres).\n",
    "df2 = df2[df2[\"LATITUDE\"].str.contains('[a-z]')==False]\n",
    "df2 = df2[df2[\"LONGITUDE\"].str.contains('[a-z]')==False]\n",
    "\n",
    "# Eliminem les files que no tenen el format correcte d'any (4 xifres seguides) a la columna \"SUNK DATE\".\n",
    "df2 = df2[df2['SUNK DATE'].str.contains('.*\\d{4}')]\n",
    "\n",
    "# Creem una columna \"SUNK YEAR\" amb només l'any del naufragi, i eliminem la data sencera.\n",
    "df2['SUNK YEAR'] = df2['SUNK DATE'].str[-4:]\n",
    "df2 = df2.drop([\"SUNK DATE\"], axis=1)\n",
    "df2 = df2[df2[\"SUNK YEAR\"].str.contains('.*\\d{4}')==True]\n",
    "\n",
    "# Passem les columnes de coordinades i d'any a un format numèric per poder-hi treballar.\n",
    "df2[\"LATITUDE\"] = df2[\"LATITUDE\"].astype(float)\n",
    "df2[\"LONGITUDE\"] = df2[\"LONGITUDE\"].astype(float)\n",
    "df2[\"SUNK YEAR\"] = df2[\"SUNK YEAR\"].astype(int)\n",
    "\n",
    "# Discretitzem l'atribut \"SUNK YEAR\" per diferenciar els naufragis per segles.\n",
    "century = [\"<XVI\", \"XVI\", \"XVII\", \"XVIII\", \"XIX\", \"XX\", \"XXI\"]\n",
    "df2[\"SUNK CENTURY\"] = pd.cut(df2[\"SUNK YEAR\"],\n",
    "       bins=[0, 1500, 1600, 1700, 1800, 1900, 2000, 2022], \n",
    "       labels= century)\n",
    "\n",
    "# Carreguem el mapa del món de la llibreria GeoPandas.\n",
    "countries = gpd.read_file(gpd.datasets.get_path(\"naturalearth_lowres\"))\n",
    "\n",
    "# Creem un gràfic amb el mapamundi de fons, cada naufragi en les seves coordenades i diferenciat per colors segons el segle.\n",
    "fig, ax = plt.subplots(figsize=(22,10))\n",
    "countries.plot(color=\"lightgrey\", ax=ax)\n",
    "df2.plot(x='LONGITUDE', y='LATITUDE', kind='scatter', c='SUNK CENTURY', s=2, colormap='viridis', ax=ax)\n",
    "\n",
    "plt.show()\n"
   ]
  }
 ],
 "metadata": {
  "kernelspec": {
   "display_name": "Python 3 (ipykernel)",
   "language": "python",
   "name": "python3"
  },
  "language_info": {
   "codemirror_mode": {
    "name": "ipython",
    "version": 3
   },
   "file_extension": ".py",
   "mimetype": "text/x-python",
   "name": "python",
   "nbconvert_exporter": "python",
   "pygments_lexer": "ipython3",
   "version": "3.9.7"
  }
 },
 "nbformat": 4,
 "nbformat_minor": 5
}
